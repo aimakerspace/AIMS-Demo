{
 "cells": [
  {
   "cell_type": "markdown",
   "metadata": {},
   "source": [
    "# Introduction\n",
    "This is a short graphical demonstration of an automatic labeller.\n",
    "\n",
    "**Click on the following code cell and press the run button (located at the top)**"
   ]
  },
  {
   "cell_type": "code",
   "execution_count": 1,
   "metadata": {},
   "outputs": [
    {
     "data": {
      "application/vnd.jupyter.widget-view+json": {
       "model_id": "772b7dbb45e4428aace65d847bc98517",
       "version_major": 2,
       "version_minor": 0
      },
      "text/plain": [
       "VBox(children=(HTML(value=\"<h1>Semi Automatic Labeller (Corgie) - Demo</h1><font size=3>\\n                    …"
      ]
     },
     "metadata": {},
     "output_type": "display_data"
    }
   ],
   "source": [
    "from src.toolkit.display import run_model\n",
    "run_model()"
   ]
  }
 ],
 "metadata": {
  "kernelspec": {
   "display_name": "Python 3",
   "language": "python",
   "name": "python3"
  },
  "language_info": {
   "codemirror_mode": {
    "name": "ipython",
    "version": 3
   },
   "file_extension": ".py",
   "mimetype": "text/x-python",
   "name": "python",
   "nbconvert_exporter": "python",
   "pygments_lexer": "ipython3",
   "version": "3.6.5"
  },
  "toc": {
   "base_numbering": 1,
   "nav_menu": {},
   "number_sections": true,
   "sideBar": true,
   "skip_h1_title": false,
   "title_cell": "Table of Contents",
   "title_sidebar": "Contents",
   "toc_cell": false,
   "toc_position": {},
   "toc_section_display": true,
   "toc_window_display": false
  },
  "widgets": {
   "application/vnd.jupyter.widget-state+json": {
    "state": {
     "039cf68652b74661b2d69f41ffda29de": {
      "model_module": "ipysheet",
      "model_module_version": "~0.4.3",
      "model_name": "CellRangeModel",
      "state": {
       "_view_module": null,
       "_view_module_version": "",
       "choice": [],
       "column_end": 0,
       "column_start": 0,
       "numeric_format": null,
       "row_end": 6,
       "row_start": 0,
       "squeeze_row": false,
       "type": "text",
       "value": [
        "criminal",
        "kill",
        "kidnap",
        "gang",
        "revenge",
        "violent",
        "nan"
       ]
      }
     },
     "0869b5225c934ca391f98cf1429bbd62": {
      "model_module": "@jupyter-widgets/base",
      "model_module_version": "1.2.0",
      "model_name": "LayoutModel",
      "state": {}
     },
     "088319f7185b45a091db6c207b3764bc": {
      "model_module": "ipysheet",
      "model_module_version": "~0.4.3",
      "model_name": "SheetModel",
      "state": {
       "cells": [
        "IPY_MODEL_44419d586d3045caa16ea8134e30a98d",
        "IPY_MODEL_adbba72042924578b248ad0922ee3ac8",
        "IPY_MODEL_96949889751a49b69ff8ecf04ce87aba",
        "IPY_MODEL_b5c4e3765c0244f4b56c1009d60e284c"
       ],
       "column_headers": [
        "Business",
        "SciTech",
        "Sports",
        "World"
       ],
       "layout": "IPY_MODEL_67a2c8b2a8cb43f9b7335312fb1afe41",
       "row_headers": [
        "0",
        "1",
        "2",
        "3",
        "4",
        "5",
        "6",
        "7",
        "8"
       ],
       "rows": 9
      }
     },
     "09951fa71ff9497b8e39f155b663283b": {
      "model_module": "@jupyter-widgets/base",
      "model_module_version": "1.2.0",
      "model_name": "LayoutModel",
      "state": {}
     },
     "0a0c1d0b6419472590424cafc6a247c7": {
      "model_module": "@jupyter-widgets/controls",
      "model_module_version": "1.5.0",
      "model_name": "DescriptionStyleModel",
      "state": {
       "description_width": ""
      }
     },
     "0ad66dba01b843feb8c3834cce59ed4f": {
      "model_module": "@jupyter-widgets/base",
      "model_module_version": "1.2.0",
      "model_name": "LayoutModel",
      "state": {}
     },
     "0be5631fc8ac4ef0bc32ebcdd9b77206": {
      "model_module": "@jupyter-widgets/base",
      "model_module_version": "1.2.0",
      "model_name": "LayoutModel",
      "state": {}
     },
     "0c84aa71b44f403a955834f4a5c3fbfa": {
      "model_module": "@jupyter-widgets/controls",
      "model_module_version": "1.5.0",
      "model_name": "ButtonModel",
      "state": {
       "button_style": "info",
       "description": "Run Model",
       "layout": "IPY_MODEL_e0559db7eef3459a9fb09bcff8b99c2d",
       "style": "IPY_MODEL_eacc285748bf4557abf12756807a879b"
      }
     },
     "1c818ff4990e402c8575a0321e50cad0": {
      "model_module": "@jupyter-widgets/controls",
      "model_module_version": "1.5.0",
      "model_name": "DescriptionStyleModel",
      "state": {
       "description_width": ""
      }
     },
     "26f4237533584f31983c69b5b7fed836": {
      "model_module": "ipysheet",
      "model_module_version": "~0.4.3",
      "model_name": "CellRangeModel",
      "state": {
       "_view_module": null,
       "_view_module_version": "",
       "choice": [],
       "column_end": 3,
       "column_start": 3,
       "numeric_format": null,
       "row_end": 6,
       "row_start": 0,
       "squeeze_row": false,
       "type": "text",
       "value": [
        "killer",
        "detective",
        "law",
        "victim",
        "cop",
        "agent",
        "kgb"
       ]
      }
     },
     "27674b6930a54dc6a5dad28e855dd366": {
      "model_module": "@jupyter-widgets/base",
      "model_module_version": "1.2.0",
      "model_name": "LayoutModel",
      "state": {}
     },
     "2811816c1da94bb0af175b3e4b61a550": {
      "model_module": "ipysheet",
      "model_module_version": "~0.4.3",
      "model_name": "CellRangeModel",
      "state": {
       "_view_module": null,
       "_view_module_version": "",
       "choice": [],
       "column_end": 4,
       "column_start": 4,
       "numeric_format": null,
       "row_end": 6,
       "row_start": 0,
       "squeeze_row": false,
       "type": "text",
       "value": [
        "war",
        "world",
        "ii",
        "struggle",
        "nan",
        "nan",
        "nan"
       ]
      }
     },
     "286cd0f2f38549b3a1b3b0b7d65303a1": {
      "model_module": "@jupyter-widgets/controls",
      "model_module_version": "1.5.0",
      "model_name": "HTMLModel",
      "state": {
       "layout": "IPY_MODEL_a144f97468e44a9d902aae4a7d9f08b4",
       "placeholder": "Predictions",
       "style": "IPY_MODEL_bf9d9379887b4e96979bcb201db91b44",
       "value": "<h1>Predictions</h1><font size=3>This are the predictions of our tool.</font>"
      }
     },
     "2dfbb39fb8e14f578141d7a7f9047782": {
      "model_module": "@jupyter-widgets/controls",
      "model_module_version": "1.5.0",
      "model_name": "DescriptionStyleModel",
      "state": {
       "description_width": ""
      }
     },
     "30d4dc09979e4493b8123fe2111c26e0": {
      "model_module": "@jupyter-widgets/controls",
      "model_module_version": "1.5.0",
      "model_name": "HTMLModel",
      "state": {
       "layout": "IPY_MODEL_ac1ebb5d1ef04c6a8379f59a8d6cfaf0",
       "placeholder": "List of recommended words",
       "style": "IPY_MODEL_2dfbb39fb8e14f578141d7a7f9047782",
       "value": "<h1>List of recommended words</h1><font size=3>In each row you will see words relating to a topic or theme.</font>"
      }
     },
     "440e151cee354234b63d4147b509dae6": {
      "model_module": "@jupyter-widgets/controls",
      "model_module_version": "1.5.0",
      "model_name": "DropdownModel",
      "state": {
       "_options_labels": [
        "News",
        "Movies"
       ],
       "description": "Input Data:",
       "index": 0,
       "layout": "IPY_MODEL_27674b6930a54dc6a5dad28e855dd366",
       "style": "IPY_MODEL_9199700dc70940f2bba782ac68f05fe1"
      }
     },
     "44419d586d3045caa16ea8134e30a98d": {
      "model_module": "ipysheet",
      "model_module_version": "~0.4.3",
      "model_name": "CellRangeModel",
      "state": {
       "_view_module": null,
       "_view_module_version": "",
       "choice": [],
       "column_end": 0,
       "column_start": 0,
       "numeric_format": null,
       "row_end": 8,
       "row_start": 0,
       "squeeze_row": false,
       "type": "text",
       "value": [
        "stock",
        "price",
        "oil_price",
        "sale",
        "percent",
        "business",
        "revenue",
        "earnings",
        "quarter"
       ]
      }
     },
     "4f201a1e579f4a8c8cd718db4b3676e6": {
      "model_module": "@jupyter-widgets/controls",
      "model_module_version": "1.5.0",
      "model_name": "HTMLModel",
      "state": {
       "layout": "IPY_MODEL_d9c45644b9ca400d95e0afc3c2cd5f97",
       "placeholder": "Model uses the following labels.",
       "style": "IPY_MODEL_0a0c1d0b6419472590424cafc6a247c7",
       "value": "<h1>Model uses the following labels.</h1><font size=3>This may take up to 15 minutes to run.</font>"
      }
     },
     "5dbf2395eecd47618a42211e30058bf9": {
      "model_module": "@jupyter-widgets/base",
      "model_module_version": "1.2.0",
      "model_name": "LayoutModel",
      "state": {
       "height": "auto",
       "width": "auto"
      }
     },
     "67a2c8b2a8cb43f9b7335312fb1afe41": {
      "model_module": "@jupyter-widgets/base",
      "model_module_version": "1.2.0",
      "model_name": "LayoutModel",
      "state": {
       "height": "auto",
       "width": "auto"
      }
     },
     "741a34004f824f39b0fa70a9bbf90953": {
      "model_module": "ipysheet",
      "model_module_version": "~0.4.3",
      "model_name": "SheetModel",
      "state": {
       "cells": [
        "IPY_MODEL_039cf68652b74661b2d69f41ffda29de",
        "IPY_MODEL_d0bdf87330fd4ebc9ba995313aa0b9d4",
        "IPY_MODEL_c60fdf3af89142c88391ef0fc01ffe24",
        "IPY_MODEL_26f4237533584f31983c69b5b7fed836",
        "IPY_MODEL_2811816c1da94bb0af175b3e4b61a550",
        "IPY_MODEL_b72d102914e24e3b938c212d60b76ed7"
       ],
       "column_headers": [
        "Action",
        "Romance",
        "Science Fiction",
        "Thriller",
        "War",
        "Western"
       ],
       "columns": 6,
       "layout": "IPY_MODEL_5dbf2395eecd47618a42211e30058bf9",
       "row_headers": [
        "0",
        "1",
        "2",
        "3",
        "4",
        "5",
        "6"
       ],
       "rows": 7
      }
     },
     "772b7dbb45e4428aace65d847bc98517": {
      "model_module": "@jupyter-widgets/controls",
      "model_module_version": "1.5.0",
      "model_name": "VBoxModel",
      "state": {
       "children": [
        "IPY_MODEL_b5f2872906bc466faff8f4a858f75626",
        "IPY_MODEL_cf8bc78f64d1435dbe2352be917ee22a",
        "IPY_MODEL_d115ac20652b48e2a28f4b679a7b18d2"
       ],
       "layout": "IPY_MODEL_c6a9e56c2563408a8821a2aaa022740c"
      }
     },
     "7d31e9e744414431b785bc461733131f": {
      "model_module": "@jupyter-widgets/controls",
      "model_module_version": "1.5.0",
      "model_name": "DescriptionStyleModel",
      "state": {
       "description_width": ""
      }
     },
     "9103c45d0eb441ba922860eb3e013589": {
      "model_module": "@jupyter-widgets/controls",
      "model_module_version": "1.5.0",
      "model_name": "HTMLModel",
      "state": {
       "layout": "IPY_MODEL_09951fa71ff9497b8e39f155b663283b",
       "placeholder": "Label Dictionary",
       "style": "IPY_MODEL_7d31e9e744414431b785bc461733131f",
       "value": "<h1>Label Dictionary</h1><font size=3>This is the list of labels for the document, you may modify this label dictionary before running the model.</font>"
      }
     },
     "9199700dc70940f2bba782ac68f05fe1": {
      "model_module": "@jupyter-widgets/controls",
      "model_module_version": "1.5.0",
      "model_name": "DescriptionStyleModel",
      "state": {
       "description_width": ""
      }
     },
     "96949889751a49b69ff8ecf04ce87aba": {
      "model_module": "ipysheet",
      "model_module_version": "~0.4.3",
      "model_name": "CellRangeModel",
      "state": {
       "_view_module": null,
       "_view_module_version": "",
       "choice": [],
       "column_end": 2,
       "column_start": 2,
       "numeric_format": null,
       "row_end": 8,
       "row_start": 0,
       "squeeze_row": false,
       "type": "text",
       "value": [
        "olympic",
        "champion",
        "basketball",
        "champion",
        "silver",
        "medal",
        "season",
        "victory",
        "cup"
       ]
      }
     },
     "a144f97468e44a9d902aae4a7d9f08b4": {
      "model_module": "@jupyter-widgets/base",
      "model_module_version": "1.2.0",
      "model_name": "LayoutModel",
      "state": {}
     },
     "ac1ebb5d1ef04c6a8379f59a8d6cfaf0": {
      "model_module": "@jupyter-widgets/base",
      "model_module_version": "1.2.0",
      "model_name": "LayoutModel",
      "state": {}
     },
     "adbba72042924578b248ad0922ee3ac8": {
      "model_module": "ipysheet",
      "model_module_version": "~0.4.3",
      "model_name": "CellRangeModel",
      "state": {
       "_view_module": null,
       "_view_module_version": "",
       "choice": [],
       "numeric_format": null,
       "row_end": 8,
       "row_start": 0,
       "squeeze_row": false,
       "type": "text",
       "value": [
        "software",
        "internet",
        "network",
        "technology",
        "research",
        "computer",
        "microsoft",
        "phone",
        "version"
       ]
      }
     },
     "b5c4e3765c0244f4b56c1009d60e284c": {
      "model_module": "ipysheet",
      "model_module_version": "~0.4.3",
      "model_name": "CellRangeModel",
      "state": {
       "_view_module": null,
       "_view_module_version": "",
       "choice": [],
       "column_end": 3,
       "column_start": 3,
       "numeric_format": null,
       "row_end": 8,
       "row_start": 0,
       "squeeze_row": false,
       "type": "text",
       "value": [
        "iraq",
        "soldier",
        "washington",
        "international",
        "official_say",
        "competition",
        "nan",
        "nan",
        "nan"
       ]
      }
     },
     "b5f2872906bc466faff8f4a858f75626": {
      "model_module": "@jupyter-widgets/controls",
      "model_module_version": "1.5.0",
      "model_name": "HTMLModel",
      "state": {
       "layout": "IPY_MODEL_f9fcb87d9c5c486ab7230e9bbe99577a",
       "placeholder": "Semi Automatic Labeller (Corgie) - Demo",
       "style": "IPY_MODEL_1c818ff4990e402c8575a0321e50cad0",
       "value": "<h1>Semi Automatic Labeller (Corgie) - Demo</h1><font size=3>\n                                        Tool designed to label short text, we will use a subset of the movies dataset and news dataset to demonstrate the potential of the tool.\n                                        Do note that you just need the 'content' column to utilise this tool.\n                                        </font>"
      }
     },
     "b72d102914e24e3b938c212d60b76ed7": {
      "model_module": "ipysheet",
      "model_module_version": "~0.4.3",
      "model_name": "CellRangeModel",
      "state": {
       "_view_module": null,
       "_view_module_version": "",
       "choice": [],
       "column_end": 5,
       "column_start": 5,
       "numeric_format": null,
       "row_end": 6,
       "row_start": 0,
       "squeeze_row": false,
       "type": "text",
       "value": [
        "criminal",
        "nan",
        "nan",
        "nan",
        "nan",
        "nan",
        "nan"
       ]
      }
     },
     "bb2a9bbb457a43c984298f5af0caa957": {
      "model_module": "@jupyter-widgets/controls",
      "model_module_version": "1.5.0",
      "model_name": "DescriptionStyleModel",
      "state": {
       "description_width": ""
      }
     },
     "bf9d9379887b4e96979bcb201db91b44": {
      "model_module": "@jupyter-widgets/controls",
      "model_module_version": "1.5.0",
      "model_name": "DescriptionStyleModel",
      "state": {
       "description_width": ""
      }
     },
     "c60fdf3af89142c88391ef0fc01ffe24": {
      "model_module": "ipysheet",
      "model_module_version": "~0.4.3",
      "model_name": "CellRangeModel",
      "state": {
       "_view_module": null,
       "_view_module_version": "",
       "choice": [],
       "column_end": 2,
       "column_start": 2,
       "numeric_format": null,
       "row_end": 6,
       "row_start": 0,
       "squeeze_row": false,
       "type": "text",
       "value": [
        "science",
        "nan",
        "nan",
        "nan",
        "nan",
        "nan",
        "nan"
       ]
      }
     },
     "c6a9e56c2563408a8821a2aaa022740c": {
      "model_module": "@jupyter-widgets/base",
      "model_module_version": "1.2.0",
      "model_name": "LayoutModel",
      "state": {}
     },
     "cf8bc78f64d1435dbe2352be917ee22a": {
      "model_module": "@jupyter-widgets/controls",
      "model_module_version": "1.5.0",
      "model_name": "HBoxModel",
      "state": {
       "children": [
        "IPY_MODEL_440e151cee354234b63d4147b509dae6",
        "IPY_MODEL_0c84aa71b44f403a955834f4a5c3fbfa"
       ],
       "layout": "IPY_MODEL_0be5631fc8ac4ef0bc32ebcdd9b77206"
      }
     },
     "d0bdf87330fd4ebc9ba995313aa0b9d4": {
      "model_module": "ipysheet",
      "model_module_version": "~0.4.3",
      "model_name": "CellRangeModel",
      "state": {
       "_view_module": null,
       "_view_module_version": "",
       "choice": [],
       "numeric_format": null,
       "row_end": 6,
       "row_start": 0,
       "squeeze_row": false,
       "type": "text",
       "value": [
        "love",
        "french",
        "romantic",
        "marry",
        "marriage",
        "boyfriend",
        "wife"
       ]
      }
     },
     "d115ac20652b48e2a28f4b679a7b18d2": {
      "model_module": "@jupyter-widgets/output",
      "model_module_version": "1.0.0",
      "model_name": "OutputModel",
      "state": {
       "layout": "IPY_MODEL_0869b5225c934ca391f98cf1429bbd62",
       "outputs": [
        {
         "data": {
          "text/html": "<div>\n<style scoped>\n    .dataframe tbody tr th:only-of-type {\n        vertical-align: middle;\n    }\n\n    .dataframe tbody tr th {\n        vertical-align: top;\n    }\n\n    .dataframe thead th {\n        text-align: right;\n    }\n</style>\n<table border=\"1\" class=\"dataframe\">\n  <thead>\n    <tr style=\"text-align: right;\">\n      <th></th>\n      <th>content</th>\n      <th>Business</th>\n      <th>SciTech</th>\n      <th>Sports</th>\n      <th>World</th>\n    </tr>\n  </thead>\n  <tbody>\n    <tr>\n      <td>0</td>\n      <td>Unions representing workers at Turner   Newall...</td>\n      <td>1</td>\n      <td>0</td>\n      <td>0</td>\n      <td>0</td>\n    </tr>\n    <tr>\n      <td>1</td>\n      <td>SPACE.com - TORONTO, Canada -- A second\\team o...</td>\n      <td>0</td>\n      <td>1</td>\n      <td>0</td>\n      <td>0</td>\n    </tr>\n    <tr>\n      <td>2</td>\n      <td>AP - A company founded by a chemistry research...</td>\n      <td>0</td>\n      <td>1</td>\n      <td>0</td>\n      <td>0</td>\n    </tr>\n    <tr>\n      <td>3</td>\n      <td>AP - It's barely dawn when Mike Fitzpatrick st...</td>\n      <td>0</td>\n      <td>1</td>\n      <td>0</td>\n      <td>0</td>\n    </tr>\n    <tr>\n      <td>4</td>\n      <td>AP - Southern California's smog-fighting agenc...</td>\n      <td>0</td>\n      <td>1</td>\n      <td>0</td>\n      <td>0</td>\n    </tr>\n    <tr>\n      <td>...</td>\n      <td>...</td>\n      <td>...</td>\n      <td>...</td>\n      <td>...</td>\n      <td>...</td>\n    </tr>\n    <tr>\n      <td>495</td>\n      <td>ATHENS -- The booing went on for nearly 10 min...</td>\n      <td>0</td>\n      <td>0</td>\n      <td>1</td>\n      <td>0</td>\n    </tr>\n    <tr>\n      <td>496</td>\n      <td>WASHINGTON -- Hundreds of workers rallied on t...</td>\n      <td>1</td>\n      <td>0</td>\n      <td>0</td>\n      <td>0</td>\n    </tr>\n    <tr>\n      <td>497</td>\n      <td>A Bosnian Serb general accused of organising t...</td>\n      <td>0</td>\n      <td>0</td>\n      <td>0</td>\n      <td>1</td>\n    </tr>\n    <tr>\n      <td>498</td>\n      <td>NBC's prime-time Olympic coverage is taped and...</td>\n      <td>0</td>\n      <td>0</td>\n      <td>1</td>\n      <td>0</td>\n    </tr>\n    <tr>\n      <td>499</td>\n      <td>One thing that #39;s always irritated those wh...</td>\n      <td>0</td>\n      <td>1</td>\n      <td>0</td>\n      <td>0</td>\n    </tr>\n  </tbody>\n</table>\n<p>500 rows × 5 columns</p>\n</div>",
          "text/plain": "                                               content  Business  SciTech  \\\n0    Unions representing workers at Turner   Newall...         1        0   \n1    SPACE.com - TORONTO, Canada -- A second\\team o...         0        1   \n2    AP - A company founded by a chemistry research...         0        1   \n3    AP - It's barely dawn when Mike Fitzpatrick st...         0        1   \n4    AP - Southern California's smog-fighting agenc...         0        1   \n..                                                 ...       ...      ...   \n495  ATHENS -- The booing went on for nearly 10 min...         0        0   \n496  WASHINGTON -- Hundreds of workers rallied on t...         1        0   \n497  A Bosnian Serb general accused of organising t...         0        0   \n498  NBC's prime-time Olympic coverage is taped and...         0        0   \n499  One thing that #39;s always irritated those wh...         0        1   \n\n     Sports  World  \n0         0      0  \n1         0      0  \n2         0      0  \n3         0      0  \n4         0      0  \n..      ...    ...  \n495       1      0  \n496       0      0  \n497       0      1  \n498       1      0  \n499       0      0  \n\n[500 rows x 5 columns]"
         },
         "metadata": {},
         "output_type": "display_data"
        },
        {
         "data": {
          "application/vnd.jupyter.widget-view+json": {
           "model_id": "30d4dc09979e4493b8123fe2111c26e0",
           "version_major": 2,
           "version_minor": 0
          },
          "text/plain": "HTML(value='<h1>List of recommended words</h1><font size=3>In each row you will see words relating to a topic …"
         },
         "metadata": {},
         "output_type": "display_data"
        },
        {
         "data": {
          "text/html": "<div>\n<style scoped>\n    .dataframe tbody tr th:only-of-type {\n        vertical-align: middle;\n    }\n\n    .dataframe tbody tr th {\n        vertical-align: top;\n    }\n\n    .dataframe thead th {\n        text-align: right;\n    }\n</style>\n<table border=\"1\" class=\"dataframe\">\n  <thead>\n    <tr style=\"text-align: right;\">\n      <th></th>\n      <th>0</th>\n      <th>1</th>\n      <th>2</th>\n      <th>3</th>\n      <th>4</th>\n      <th>5</th>\n      <th>6</th>\n      <th>7</th>\n      <th>8</th>\n      <th>9</th>\n    </tr>\n  </thead>\n  <tbody>\n    <tr>\n      <td>0</td>\n      <td>say</td>\n      <td>president</td>\n      <td>official</td>\n      <td>two</td>\n      <td>would</td>\n      <td>one</td>\n      <td>government</td>\n      <td>worker</td>\n      <td>plan</td>\n      <td>security</td>\n    </tr>\n    <tr>\n      <td>1</td>\n      <td>lt</td>\n      <td>gt</td>\n      <td>http</td>\n      <td>href</td>\n      <td>wwwinvestorreuterscomfullquoteaspx</td>\n      <td>targetstocksquickinfofullquote</td>\n      <td>reuters</td>\n      <td>inc</td>\n      <td>say</td>\n      <td>product</td>\n    </tr>\n    <tr>\n      <td>2</td>\n      <td>athens</td>\n      <td>olympic</td>\n      <td>gold</td>\n      <td>medal</td>\n      <td>win</td>\n      <td>american</td>\n      <td>reuters</td>\n      <td>woman</td>\n      <td>greece</td>\n      <td>second</td>\n    </tr>\n    <tr>\n      <td>3</td>\n      <td>quot</td>\n      <td>go</td>\n      <td>aug</td>\n      <td>come</td>\n      <td>see</td>\n      <td>night</td>\n      <td>team</td>\n      <td>easy</td>\n      <td>friday</td>\n      <td>last</td>\n    </tr>\n    <tr>\n      <td>4</td>\n      <td>ap</td>\n      <td>night</td>\n      <td>sunday</td>\n      <td>inning</td>\n      <td>get</td>\n      <td>win</td>\n      <td>game</td>\n      <td>hit</td>\n      <td>run</td>\n      <td>ninth</td>\n    </tr>\n    <tr>\n      <td>5</td>\n      <td>city</td>\n      <td>najaf</td>\n      <td>iraq</td>\n      <td>holy</td>\n      <td>cleric</td>\n      <td>shiite</td>\n      <td>iraqi</td>\n      <td>end</td>\n      <td>shrine</td>\n      <td>alsadr</td>\n    </tr>\n    <tr>\n      <td>6</td>\n      <td>price</td>\n      <td>new</td>\n      <td>oil</td>\n      <td>reuters</td>\n      <td>us</td>\n      <td>year</td>\n      <td>high</td>\n      <td>rise</td>\n      <td>energy</td>\n      <td>dollar</td>\n    </tr>\n  </tbody>\n</table>\n</div>",
          "text/plain": "        0          1         2        3                                   4  \\\n0     say  president  official      two                               would   \n1      lt         gt      http     href  wwwinvestorreuterscomfullquoteaspx   \n2  athens    olympic      gold    medal                                 win   \n3    quot         go       aug     come                                 see   \n4      ap      night    sunday   inning                                 get   \n5    city      najaf      iraq     holy                              cleric   \n6   price        new       oil  reuters                                  us   \n\n                                5           6       7       8         9  \n0                             one  government  worker    plan  security  \n1  targetstocksquickinfofullquote     reuters     inc     say   product  \n2                        american     reuters   woman  greece    second  \n3                           night        team    easy  friday      last  \n4                             win        game     hit     run     ninth  \n5                          shiite       iraqi     end  shrine    alsadr  \n6                            year        high    rise  energy    dollar  "
         },
         "metadata": {},
         "output_type": "display_data"
        },
        {
         "data": {
          "application/vnd.jupyter.widget-view+json": {
           "model_id": "9103c45d0eb441ba922860eb3e013589",
           "version_major": 2,
           "version_minor": 0
          },
          "text/plain": "HTML(value='<h1>Label Dictionary</h1><font size=3>This is the list of labels for the document, you may modify …"
         },
         "metadata": {},
         "output_type": "display_data"
        },
        {
         "data": {
          "application/vnd.jupyter.widget-view+json": {
           "model_id": "088319f7185b45a091db6c207b3764bc",
           "version_major": 2,
           "version_minor": 0
          },
          "text/plain": "Sheet(cells=(Cell(choice=[], column_end=0, column_start=0, numeric_format=None, row_end=8, row_start=0, squeez…"
         },
         "metadata": {},
         "output_type": "display_data"
        },
        {
         "data": {
          "application/vnd.jupyter.widget-view+json": {
           "model_id": "e4b31ff92e114597963bf561408d8118",
           "version_major": 2,
           "version_minor": 0
          },
          "text/plain": "HTML(value='<h1>Enriched Dictionary</h1><font size=3>This is an enriched version of the input label dictionary…"
         },
         "metadata": {},
         "output_type": "display_data"
        },
        {
         "data": {
          "text/html": "<div>\n<style scoped>\n    .dataframe tbody tr th:only-of-type {\n        vertical-align: middle;\n    }\n\n    .dataframe tbody tr th {\n        vertical-align: top;\n    }\n\n    .dataframe thead th {\n        text-align: right;\n    }\n</style>\n<table border=\"1\" class=\"dataframe\">\n  <thead>\n    <tr style=\"text-align: right;\">\n      <th></th>\n      <th>Business</th>\n      <th>SciTech</th>\n      <th>Sports</th>\n      <th>World</th>\n    </tr>\n  </thead>\n  <tbody>\n    <tr>\n      <td>0</td>\n      <td>quarter</td>\n      <td>service</td>\n      <td>cup</td>\n      <td>television</td>\n    </tr>\n    <tr>\n      <td>1</td>\n      <td>rise</td>\n      <td>rise</td>\n      <td>captain</td>\n      <td>unfair</td>\n    </tr>\n    <tr>\n      <td>2</td>\n      <td>drop</td>\n      <td>manage</td>\n      <td>medal</td>\n      <td>electronics</td>\n    </tr>\n    <tr>\n      <td>3</td>\n      <td>cost</td>\n      <td>irregular</td>\n      <td>pick</td>\n      <td>competition</td>\n    </tr>\n    <tr>\n      <td>4</td>\n      <td>soar</td>\n      <td>equipment</td>\n      <td>preliminary</td>\n      <td>partner</td>\n    </tr>\n    <tr>\n      <td>5</td>\n      <td>trading</td>\n      <td>partner</td>\n      <td>silver</td>\n      <td>intel</td>\n    </tr>\n    <tr>\n      <td>6</td>\n      <td>price</td>\n      <td>operator</td>\n      <td>competition</td>\n      <td>champion</td>\n    </tr>\n    <tr>\n      <td>7</td>\n      <td>sharp</td>\n      <td>share</td>\n      <td>sport</td>\n      <td>chip</td>\n    </tr>\n    <tr>\n      <td>8</td>\n      <td>share</td>\n      <td>stock</td>\n      <td>loss</td>\n      <td>price</td>\n    </tr>\n    <tr>\n      <td>9</td>\n      <td>stock</td>\n      <td>mobile</td>\n      <td>champion</td>\n      <td>win</td>\n    </tr>\n    <tr>\n      <td>10</td>\n      <td>energy</td>\n      <td>earnings</td>\n      <td>bronze</td>\n      <td>practice</td>\n    </tr>\n    <tr>\n      <td>11</td>\n      <td>developer</td>\n      <td>newsfactor</td>\n      <td>basketball</td>\n      <td>business</td>\n    </tr>\n    <tr>\n      <td>12</td>\n      <td>business</td>\n      <td>research</td>\n      <td>event</td>\n      <td>sue</td>\n    </tr>\n    <tr>\n      <td>13</td>\n      <td>revenue</td>\n      <td>internet</td>\n      <td>win</td>\n      <td>newsfactor</td>\n    </tr>\n    <tr>\n      <td>14</td>\n      <td>earnings</td>\n      <td>technology</td>\n      <td>finish</td>\n      <td>allege</td>\n    </tr>\n    <tr>\n      <td>15</td>\n      <td>oil</td>\n      <td>device</td>\n      <td>mens</td>\n      <td>international</td>\n    </tr>\n    <tr>\n      <td>16</td>\n      <td>sale</td>\n      <td>phone</td>\n      <td>third</td>\n      <td>engage</td>\n    </tr>\n    <tr>\n      <td>17</td>\n      <td>discount</td>\n      <td>network</td>\n      <td>season</td>\n      <td>semiconductor</td>\n    </tr>\n    <tr>\n      <td>18</td>\n      <td>percent</td>\n      <td>treat</td>\n      <td>international</td>\n      <td>software</td>\n    </tr>\n    <tr>\n      <td>19</td>\n      <td>post</td>\n      <td>percent</td>\n      <td>gold</td>\n      <td>story</td>\n    </tr>\n    <tr>\n      <td>20</td>\n      <td>quarterly</td>\n      <td>quarterly</td>\n      <td>victory</td>\n      <td>version</td>\n    </tr>\n    <tr>\n      <td>21</td>\n      <td>profit</td>\n      <td>audience</td>\n      <td>athens</td>\n      <td>computer</td>\n    </tr>\n    <tr>\n      <td>22</td>\n      <td>computer</td>\n      <td>software</td>\n      <td>None</td>\n      <td>None</td>\n    </tr>\n    <tr>\n      <td>23</td>\n      <td>None</td>\n      <td>version</td>\n      <td>None</td>\n      <td>None</td>\n    </tr>\n    <tr>\n      <td>24</td>\n      <td>None</td>\n      <td>computer</td>\n      <td>None</td>\n      <td>None</td>\n    </tr>\n  </tbody>\n</table>\n</div>",
          "text/plain": "     Business     SciTech         Sports          World\n0     quarter     service            cup     television\n1        rise        rise        captain         unfair\n2        drop      manage          medal    electronics\n3        cost   irregular           pick    competition\n4        soar   equipment    preliminary        partner\n5     trading     partner         silver          intel\n6       price    operator    competition       champion\n7       sharp       share          sport           chip\n8       share       stock           loss          price\n9       stock      mobile       champion            win\n10     energy    earnings         bronze       practice\n11  developer  newsfactor     basketball       business\n12   business    research          event            sue\n13    revenue    internet            win     newsfactor\n14   earnings  technology         finish         allege\n15        oil      device           mens  international\n16       sale       phone          third         engage\n17   discount     network         season  semiconductor\n18    percent       treat  international       software\n19       post     percent           gold          story\n20  quarterly   quarterly        victory        version\n21     profit    audience         athens       computer\n22   computer    software           None           None\n23       None     version           None           None\n24       None    computer           None           None"
         },
         "metadata": {},
         "output_type": "display_data"
        },
        {
         "data": {
          "application/vnd.jupyter.widget-view+json": {
           "model_id": "286cd0f2f38549b3a1b3b0b7d65303a1",
           "version_major": 2,
           "version_minor": 0
          },
          "text/plain": "HTML(value='<h1>Predictions</h1><font size=3>This are the predictions of our tool.</font>', placeholder='Predi…"
         },
         "metadata": {},
         "output_type": "display_data"
        },
        {
         "data": {
          "text/html": "<div>\n<style scoped>\n    .dataframe tbody tr th:only-of-type {\n        vertical-align: middle;\n    }\n\n    .dataframe tbody tr th {\n        vertical-align: top;\n    }\n\n    .dataframe thead th {\n        text-align: right;\n    }\n</style>\n<table border=\"1\" class=\"dataframe\">\n  <thead>\n    <tr style=\"text-align: right;\">\n      <th></th>\n      <th>content</th>\n      <th>Business</th>\n      <th>SciTech</th>\n      <th>Sports</th>\n      <th>World</th>\n    </tr>\n  </thead>\n  <tbody>\n    <tr>\n      <td>0</td>\n      <td>union represent worker turner newall say disap...</td>\n      <td>1.0</td>\n      <td>0.0</td>\n      <td>0.0</td>\n      <td>1.0</td>\n    </tr>\n    <tr>\n      <td>1</td>\n      <td>spacecom toronto canada secondteam rocketeers ...</td>\n      <td>0.0</td>\n      <td>0.0</td>\n      <td>0.0</td>\n      <td>0.0</td>\n    </tr>\n    <tr>\n      <td>2</td>\n      <td>ap company found chemistry researcher universi...</td>\n      <td>0.0</td>\n      <td>0.0</td>\n      <td>1.0</td>\n      <td>1.0</td>\n    </tr>\n    <tr>\n      <td>3</td>\n      <td>ap dawn start shift colorful map figure endles...</td>\n      <td>0.0</td>\n      <td>0.0</td>\n      <td>1.0</td>\n      <td>0.0</td>\n    </tr>\n    <tr>\n      <td>4</td>\n      <td>ap southern california smogfighting agency go ...</td>\n      <td>0.0</td>\n      <td>0.0</td>\n      <td>0.0</td>\n      <td>0.0</td>\n    </tr>\n    <tr>\n      <td>...</td>\n      <td>...</td>\n      <td>...</td>\n      <td>...</td>\n      <td>...</td>\n      <td>...</td>\n    </tr>\n    <tr>\n      <td>495</td>\n      <td>athens booing go minute chalk ready wait benea...</td>\n      <td>0.0</td>\n      <td>0.0</td>\n      <td>1.0</td>\n      <td>0.0</td>\n    </tr>\n    <tr>\n      <td>496</td>\n      <td>washington hundred worker step labor yesterday...</td>\n      <td>0.0</td>\n      <td>0.0</td>\n      <td>0.0</td>\n      <td>0.0</td>\n    </tr>\n    <tr>\n      <td>497</td>\n      <td>bosnian serb general accuse organise siege sar...</td>\n      <td>1.0</td>\n      <td>0.0</td>\n      <td>0.0</td>\n      <td>1.0</td>\n    </tr>\n    <tr>\n      <td>498</td>\n      <td>nbcs primetime olympic coverage tap shape tele...</td>\n      <td>0.0</td>\n      <td>0.0</td>\n      <td>1.0</td>\n      <td>1.0</td>\n    </tr>\n    <tr>\n      <td>499</td>\n      <td>one thing irritate choose use internet explore...</td>\n      <td>0.0</td>\n      <td>0.0</td>\n      <td>0.0</td>\n      <td>1.0</td>\n    </tr>\n  </tbody>\n</table>\n<p>500 rows × 5 columns</p>\n</div>",
          "text/plain": "                                               content  Business  SciTech  \\\n0    union represent worker turner newall say disap...       1.0      0.0   \n1    spacecom toronto canada secondteam rocketeers ...       0.0      0.0   \n2    ap company found chemistry researcher universi...       0.0      0.0   \n3    ap dawn start shift colorful map figure endles...       0.0      0.0   \n4    ap southern california smogfighting agency go ...       0.0      0.0   \n..                                                 ...       ...      ...   \n495  athens booing go minute chalk ready wait benea...       0.0      0.0   \n496  washington hundred worker step labor yesterday...       0.0      0.0   \n497  bosnian serb general accuse organise siege sar...       1.0      0.0   \n498  nbcs primetime olympic coverage tap shape tele...       0.0      0.0   \n499  one thing irritate choose use internet explore...       0.0      0.0   \n\n     Sports  World  \n0       0.0    1.0  \n1       0.0    0.0  \n2       1.0    1.0  \n3       1.0    0.0  \n4       0.0    0.0  \n..      ...    ...  \n495     1.0    0.0  \n496     0.0    0.0  \n497     0.0    1.0  \n498     1.0    1.0  \n499     0.0    1.0  \n\n[500 rows x 5 columns]"
         },
         "metadata": {},
         "output_type": "display_data"
        }
       ]
      }
     },
     "d9c45644b9ca400d95e0afc3c2cd5f97": {
      "model_module": "@jupyter-widgets/base",
      "model_module_version": "1.2.0",
      "model_name": "LayoutModel",
      "state": {}
     },
     "e0559db7eef3459a9fb09bcff8b99c2d": {
      "model_module": "@jupyter-widgets/base",
      "model_module_version": "1.2.0",
      "model_name": "LayoutModel",
      "state": {}
     },
     "e4b31ff92e114597963bf561408d8118": {
      "model_module": "@jupyter-widgets/controls",
      "model_module_version": "1.5.0",
      "model_name": "HTMLModel",
      "state": {
       "layout": "IPY_MODEL_0ad66dba01b843feb8c3834cce59ed4f",
       "placeholder": "Enriched Dictionary",
       "style": "IPY_MODEL_bb2a9bbb457a43c984298f5af0caa957",
       "value": "<h1>Enriched Dictionary</h1><font size=3>This is an enriched version of the input label dictionary.</font>"
      }
     },
     "eacc285748bf4557abf12756807a879b": {
      "model_module": "@jupyter-widgets/controls",
      "model_module_version": "1.5.0",
      "model_name": "ButtonStyleModel",
      "state": {}
     },
     "f9fcb87d9c5c486ab7230e9bbe99577a": {
      "model_module": "@jupyter-widgets/base",
      "model_module_version": "1.2.0",
      "model_name": "LayoutModel",
      "state": {}
     }
    },
    "version_major": 2,
    "version_minor": 0
   }
  }
 },
 "nbformat": 4,
 "nbformat_minor": 4
}
