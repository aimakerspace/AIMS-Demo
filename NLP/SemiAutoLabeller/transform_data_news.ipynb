{
 "cells": [
  {
   "cell_type": "markdown",
   "metadata": {},
   "source": [
    "Script to transform news data from json to required format. Code was created with reference from [source](https://medium.com/@robert.salgado/multiclass-text-classification-from-start-to-finish-f616a8642538)."
   ]
  },
  {
   "cell_type": "code",
   "execution_count": 34,
   "metadata": {},
   "outputs": [],
   "source": [
    "# Standard Libary Imports\n",
    "import pandas as pd\n",
    "import numpy as np\n",
    "import json"
   ]
  },
  {
   "cell_type": "code",
   "execution_count": 35,
   "metadata": {},
   "outputs": [],
   "source": [
    "# file path to text data\n",
    "json_path = \"data/news/news.json\""
   ]
  },
  {
   "cell_type": "code",
   "execution_count": 39,
   "metadata": {},
   "outputs": [],
   "source": [
    "# Load the JSON Data into a df\n",
    "data = []\n",
    "\n",
    "for line in open(json_path, 'r'):\n",
    "    data.append(json.loads(line))\n",
    "\n",
    "content, label = [], []\n",
    "for each in data:\n",
    "    content.append(each['content'])\n",
    "    label.append(each['annotation']['label'][0])\n",
    "    \n",
    "df = pd.DataFrame([content, label]).T\n",
    "df.columns= ['content', 'label']\n",
    "\n",
    "# format with one hot encoding\n",
    "labels = pd.get_dummies(df['label'])\n",
    "data = pd.concat([df['content'], labels], axis=1)\n",
    "\n",
    "data.to_csv(\"data/news/news.csv\", index=False)\n",
    "data.head(500).to_csv(\"data/news/news500.csv\", index=False)"
   ]
  },
  {
   "cell_type": "code",
   "execution_count": 40,
   "metadata": {},
   "outputs": [
    {
     "name": "stdout",
     "output_type": "stream",
     "text": [
      "<class 'pandas.core.frame.DataFrame'>\n",
      "RangeIndex: 7600 entries, 0 to 7599\n",
      "Data columns (total 5 columns):\n",
      "content     7600 non-null object\n",
      "Business    7600 non-null int64\n",
      "SciTech     7600 non-null int64\n",
      "Sports      7600 non-null int64\n",
      "World       7600 non-null int64\n",
      "dtypes: int64(4), object(1)\n",
      "memory usage: 297.0+ KB\n"
     ]
    }
   ],
   "source": [
    "pd.read_csv(\"data/news/news.csv\").info()"
   ]
  },
  {
   "cell_type": "code",
   "execution_count": 41,
   "metadata": {},
   "outputs": [
    {
     "name": "stdout",
     "output_type": "stream",
     "text": [
      "<class 'pandas.core.frame.DataFrame'>\n",
      "RangeIndex: 500 entries, 0 to 499\n",
      "Data columns (total 5 columns):\n",
      "content     500 non-null object\n",
      "Business    500 non-null int64\n",
      "SciTech     500 non-null int64\n",
      "Sports      500 non-null int64\n",
      "World       500 non-null int64\n",
      "dtypes: int64(4), object(1)\n",
      "memory usage: 19.6+ KB\n"
     ]
    }
   ],
   "source": [
    "pd.read_csv(\"data/news/news500.csv\").info()"
   ]
  }
 ],
 "metadata": {
  "kernelspec": {
   "display_name": "Python 3",
   "language": "python",
   "name": "python3"
  },
  "language_info": {
   "codemirror_mode": {
    "name": "ipython",
    "version": 3
   },
   "file_extension": ".py",
   "mimetype": "text/x-python",
   "name": "python",
   "nbconvert_exporter": "python",
   "pygments_lexer": "ipython3",
   "version": "3.7.4"
  }
 },
 "nbformat": 4,
 "nbformat_minor": 2
}
